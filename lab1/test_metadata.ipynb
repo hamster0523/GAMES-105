{
 "cells": [
  {
   "cell_type": "code",
   "execution_count": 1,
   "metadata": {},
   "outputs": [],
   "source": [
    "# from task1_forward_kinematics import *\n",
    "from scipy.spatial.transform import Rotation as R\n",
    "from Lab2_IK_answers import *\n",
    "from task2_inverse_kinematics import *\n",
    "from viewer import *"
   ]
  },
  {
   "cell_type": "code",
   "execution_count": 2,
   "metadata": {},
   "outputs": [],
   "source": [
    "viewer = SimpleViewer()\n",
    "target_pos = np.array([0.5, 0.75, 0.5])"
   ]
  },
  {
   "cell_type": "code",
   "execution_count": 3,
   "metadata": {},
   "outputs": [],
   "source": [
    "viewer.create_marker(target_pos, [1, 0, 0, 1])\n",
    "joint_name, joint_parent, joint_initial_position = viewer.get_meta_data()\n",
    "meta_data = MetaData(joint_name, joint_parent, joint_initial_position, 'lToeJoint_end', 'lWrist_end')\n",
    "joint_position = viewer.get_joint_positions()\n",
    "joint_orientation = viewer.get_joint_orientations()"
   ]
  },
  {
   "cell_type": "code",
   "execution_count": 5,
   "metadata": {},
   "outputs": [
    {
     "data": {
      "text/plain": [
       "['RootJoint',\n",
       " 'pelvis_lowerback',\n",
       " 'lowerback_torso',\n",
       " 'rHip',\n",
       " 'lHip',\n",
       " 'rKnee',\n",
       " 'lKnee',\n",
       " 'rAnkle',\n",
       " 'lAnkle',\n",
       " 'rToeJoint',\n",
       " 'lToeJoint',\n",
       " 'torso_head',\n",
       " 'rTorso_Clavicle',\n",
       " 'lTorso_Clavicle',\n",
       " 'rShoulder',\n",
       " 'lShoulder',\n",
       " 'rElbow',\n",
       " 'lElbow',\n",
       " 'rWrist',\n",
       " 'lWrist',\n",
       " 'torso_head_end',\n",
       " 'lWrist_end',\n",
       " 'rWrist_end',\n",
       " 'lToeJoint_end',\n",
       " 'rToeJoint_end']"
      ]
     },
     "execution_count": 5,
     "metadata": {},
     "output_type": "execute_result"
    }
   ],
   "source": [
    "joint_name"
   ]
  },
  {
   "cell_type": "code",
   "execution_count": 6,
   "metadata": {},
   "outputs": [
    {
     "data": {
      "text/plain": [
       "[-1,\n",
       " 0,\n",
       " 1,\n",
       " 0,\n",
       " 0,\n",
       " 3,\n",
       " 4,\n",
       " 5,\n",
       " 6,\n",
       " 7,\n",
       " 8,\n",
       " 2,\n",
       " 2,\n",
       " 2,\n",
       " 12,\n",
       " 13,\n",
       " 14,\n",
       " 15,\n",
       " 16,\n",
       " 17,\n",
       " 11,\n",
       " 19,\n",
       " 18,\n",
       " 10,\n",
       " 9]"
      ]
     },
     "execution_count": 6,
     "metadata": {},
     "output_type": "execute_result"
    }
   ],
   "source": [
    "joint_parent"
   ]
  },
  {
   "cell_type": "code",
   "execution_count": 7,
   "metadata": {},
   "outputs": [
    {
     "data": {
      "text/plain": [
       "array([[-1.18591476e-19,  9.31395352e-01,  0.00000000e+00],\n",
       "       [ 0.00000000e+00,  1.02499998e+00,  0.00000000e+00],\n",
       "       [ 0.00000000e+00,  1.12500000e+00,  0.00000000e+00],\n",
       "       [-1.00000001e-01,  8.79999995e-01,  0.00000000e+00],\n",
       "       [ 1.00000001e-01,  8.79999995e-01,  0.00000000e+00],\n",
       "       [-1.00000001e-01,  4.69999999e-01,  0.00000000e+00],\n",
       "       [ 1.00000001e-01,  4.69999999e-01,  0.00000000e+00],\n",
       "       [-1.00000001e-01,  7.99999833e-02,  0.00000000e+00],\n",
       "       [ 1.00000001e-01,  7.99999833e-02,  0.00000000e+00],\n",
       "       [-1.00000001e-01,  2.99999714e-02,  1.29999995e-01],\n",
       "       [ 1.00000001e-01,  2.99999714e-02,  1.29999995e-01],\n",
       "       [ 0.00000000e+00,  1.40734994e+00,  0.00000000e+00],\n",
       "       [-1.00000005e-03,  1.28250003e+00,  0.00000000e+00],\n",
       "       [ 1.00000005e-03,  1.28250003e+00,  0.00000000e+00],\n",
       "       [-1.18647002e-01,  1.28250003e+00,  0.00000000e+00],\n",
       "       [ 1.18647002e-01,  1.28250003e+00,  0.00000000e+00],\n",
       "       [-3.63647014e-01,  1.28250003e+00,  0.00000000e+00],\n",
       "       [ 3.63647014e-01,  1.28250003e+00,  0.00000000e+00],\n",
       "       [-6.03646994e-01,  1.28250003e+00,  0.00000000e+00],\n",
       "       [ 6.03646994e-01,  1.28250003e+00,  0.00000000e+00],\n",
       "       [-1.18591476e-19,  1.60000038e+00,  0.00000000e+00],\n",
       "       [ 7.20000029e-01,  1.28000033e+00,  0.00000000e+00],\n",
       "       [-7.20000029e-01,  1.28000033e+00,  0.00000000e+00],\n",
       "       [ 1.09999999e-01,  3.20003331e-02,  1.89999998e-01],\n",
       "       [-1.09999999e-01,  3.20003331e-02,  1.89999998e-01]])"
      ]
     },
     "execution_count": 7,
     "metadata": {},
     "output_type": "execute_result"
    }
   ],
   "source": [
    "joint_initial_position"
   ]
  },
  {
   "cell_type": "code",
   "execution_count": 8,
   "metadata": {},
   "outputs": [
    {
     "data": {
      "text/plain": [
       "array([[-1.18591476e-19,  9.31395352e-01,  0.00000000e+00],\n",
       "       [ 0.00000000e+00,  1.02499998e+00,  0.00000000e+00],\n",
       "       [ 0.00000000e+00,  1.12500000e+00,  0.00000000e+00],\n",
       "       [-1.00000001e-01,  8.79999995e-01,  0.00000000e+00],\n",
       "       [ 1.00000001e-01,  8.79999995e-01,  0.00000000e+00],\n",
       "       [-1.00000001e-01,  4.69999999e-01,  0.00000000e+00],\n",
       "       [ 1.00000001e-01,  4.69999999e-01,  0.00000000e+00],\n",
       "       [-1.00000001e-01,  7.99999833e-02,  0.00000000e+00],\n",
       "       [ 1.00000001e-01,  7.99999833e-02,  0.00000000e+00],\n",
       "       [-1.00000001e-01,  2.99999714e-02,  1.29999995e-01],\n",
       "       [ 1.00000001e-01,  2.99999714e-02,  1.29999995e-01],\n",
       "       [ 0.00000000e+00,  1.40734994e+00,  0.00000000e+00],\n",
       "       [-1.00000005e-03,  1.28250003e+00,  0.00000000e+00],\n",
       "       [ 1.00000005e-03,  1.28250003e+00,  0.00000000e+00],\n",
       "       [-1.18647002e-01,  1.28250003e+00,  0.00000000e+00],\n",
       "       [ 1.18647002e-01,  1.28250003e+00,  0.00000000e+00],\n",
       "       [-3.63647014e-01,  1.28250003e+00,  0.00000000e+00],\n",
       "       [ 3.63647014e-01,  1.28250003e+00,  0.00000000e+00],\n",
       "       [-6.03646994e-01,  1.28250003e+00,  0.00000000e+00],\n",
       "       [ 6.03646994e-01,  1.28250003e+00,  0.00000000e+00],\n",
       "       [-1.18591476e-19,  1.60000038e+00,  0.00000000e+00],\n",
       "       [ 7.20000029e-01,  1.28000033e+00,  0.00000000e+00],\n",
       "       [-7.20000029e-01,  1.28000033e+00,  0.00000000e+00],\n",
       "       [ 1.09999999e-01,  3.20003331e-02,  1.89999998e-01],\n",
       "       [-1.09999999e-01,  3.20003331e-02,  1.89999998e-01]])"
      ]
     },
     "execution_count": 8,
     "metadata": {},
     "output_type": "execute_result"
    }
   ],
   "source": [
    "joint_position"
   ]
  },
  {
   "cell_type": "code",
   "execution_count": 9,
   "metadata": {},
   "outputs": [
    {
     "data": {
      "text/plain": [
       "array([[0., 0., 0., 1.],\n",
       "       [0., 0., 0., 1.],\n",
       "       [0., 0., 0., 1.],\n",
       "       [0., 0., 0., 1.],\n",
       "       [0., 0., 0., 1.],\n",
       "       [0., 0., 0., 1.],\n",
       "       [0., 0., 0., 1.],\n",
       "       [0., 0., 0., 1.],\n",
       "       [0., 0., 0., 1.],\n",
       "       [0., 0., 0., 1.],\n",
       "       [0., 0., 0., 1.],\n",
       "       [0., 0., 0., 1.],\n",
       "       [0., 0., 0., 1.],\n",
       "       [0., 0., 0., 1.],\n",
       "       [0., 0., 0., 1.],\n",
       "       [0., 0., 0., 1.],\n",
       "       [0., 0., 0., 1.],\n",
       "       [0., 0., 0., 1.],\n",
       "       [0., 0., 0., 1.],\n",
       "       [0., 0., 0., 1.],\n",
       "       [0., 0., 0., 1.],\n",
       "       [0., 0., 0., 1.],\n",
       "       [0., 0., 0., 1.],\n",
       "       [0., 0., 0., 1.],\n",
       "       [0., 0., 0., 1.]])"
      ]
     },
     "execution_count": 9,
     "metadata": {},
     "output_type": "execute_result"
    },
    {
     "ename": "",
     "evalue": "",
     "output_type": "error",
     "traceback": [
      "\u001b[1;31m在当前单元格或上一个单元格中执行代码时 Kernel 崩溃。\n",
      "\u001b[1;31m请查看单元格中的代码，以确定故障的可能原因。\n",
      "\u001b[1;31m单击<a href='https://aka.ms/vscodeJupyterKernelCrash'>此处</a>了解详细信息。\n",
      "\u001b[1;31m有关更多详细信息，请查看 Jupyter <a href='command:jupyter.viewOutput'>log</a>。"
     ]
    }
   ],
   "source": [
    "joint_orientation"
   ]
  }
 ],
 "metadata": {
  "kernelspec": {
   "display_name": "pytorch",
   "language": "python",
   "name": "python3"
  },
  "language_info": {
   "codemirror_mode": {
    "name": "ipython",
    "version": 3
   },
   "file_extension": ".py",
   "mimetype": "text/x-python",
   "name": "python",
   "nbconvert_exporter": "python",
   "pygments_lexer": "ipython3",
   "version": "3.8.17"
  }
 },
 "nbformat": 4,
 "nbformat_minor": 2
}
