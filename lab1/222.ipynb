{
 "cells": [
  {
   "cell_type": "code",
   "execution_count": 1,
   "metadata": {},
   "outputs": [],
   "source": [
    "from Lab1_FK_answers import *"
   ]
  },
  {
   "cell_type": "code",
   "execution_count": 11,
   "metadata": {},
   "outputs": [
    {
     "name": "stdout",
     "output_type": "stream",
     "text": [
      "d:\\BaiduSyncdisk\\games105\\GAMES105-作业\\GAMES105-作业\\lab1\n"
     ]
    },
    {
     "ename": "FileNotFoundError",
     "evalue": "[Errno 2] No such file or directory: 'd:\\\\BaiduSyncdisk\\\\games105\\\\GAMES105-作业\\\\GAMES105-作业\\\\lab1\\\\data\\\\A_pos_run.bvh'",
     "output_type": "error",
     "traceback": [
      "\u001b[1;31m---------------------------------------------------------------------------\u001b[0m",
      "\u001b[1;31mFileNotFoundError\u001b[0m                         Traceback (most recent call last)",
      "Cell \u001b[1;32mIn[11], line 9\u001b[0m\n\u001b[0;32m      6\u001b[0m A_pos_bvh_file \u001b[38;5;241m=\u001b[39m os\u001b[38;5;241m.\u001b[39mpath\u001b[38;5;241m.\u001b[39mjoin(current_directory, \u001b[38;5;124m'\u001b[39m\u001b[38;5;124mdata\u001b[39m\u001b[38;5;124m'\u001b[39m, \u001b[38;5;124m'\u001b[39m\u001b[38;5;124mA_pos_run.bvh\u001b[39m\u001b[38;5;124m'\u001b[39m)\n\u001b[0;32m      8\u001b[0m T_joint_name, _, _, \u001b[38;5;241m=\u001b[39m part1_calculate_T_pose(T_pos_bvh_file)\n\u001b[1;32m----> 9\u001b[0m A_joint_name, _, _, \u001b[38;5;241m=\u001b[39m \u001b[43mpart1_calculate_T_pose\u001b[49m\u001b[43m(\u001b[49m\u001b[43mA_pos_bvh_file\u001b[49m\u001b[43m)\u001b[49m\n",
      "File \u001b[1;32md:\\BaiduSyncdisk\\games105\\GAMES105-作业\\GAMES105-作业\\lab1\\Lab1_FK_answers.py:34\u001b[0m, in \u001b[0;36mpart1_calculate_T_pose\u001b[1;34m(bvh_file_path)\u001b[0m\n\u001b[0;32m     23\u001b[0m \u001b[38;5;28;01mdef\u001b[39;00m \u001b[38;5;21mpart1_calculate_T_pose\u001b[39m(bvh_file_path):\n\u001b[0;32m     24\u001b[0m \u001b[38;5;250m    \u001b[39m\u001b[38;5;124;03m\"\"\"请填写以下内容\u001b[39;00m\n\u001b[0;32m     25\u001b[0m \u001b[38;5;124;03m    输入： bvh 文件路径\u001b[39;00m\n\u001b[0;32m     26\u001b[0m \u001b[38;5;124;03m    输出:\u001b[39;00m\n\u001b[1;32m   (...)\u001b[0m\n\u001b[0;32m     32\u001b[0m \u001b[38;5;124;03m        joint_name顺序应该和bvh一致\u001b[39;00m\n\u001b[0;32m     33\u001b[0m \u001b[38;5;124;03m    \"\"\"\u001b[39;00m\n\u001b[1;32m---> 34\u001b[0m     Tree \u001b[38;5;241m=\u001b[39m \u001b[43mBone_Tree\u001b[49m\u001b[43m(\u001b[49m\u001b[43mbvh_file_path\u001b[49m\u001b[43m)\u001b[49m\n\u001b[0;32m     35\u001b[0m     joint_name \u001b[38;5;241m=\u001b[39m Tree\u001b[38;5;241m.\u001b[39mjoint_name\n\u001b[0;32m     36\u001b[0m     joint_parent \u001b[38;5;241m=\u001b[39m Tree\u001b[38;5;241m.\u001b[39mjoint_parent\n",
      "File \u001b[1;32md:\\BaiduSyncdisk\\games105\\GAMES105-作业\\GAMES105-作业\\lab1\\BVH_Reader\\bvh_read2.py:28\u001b[0m, in \u001b[0;36mBone_Tree.__init__\u001b[1;34m(self, bvh_file_path)\u001b[0m\n\u001b[0;32m     26\u001b[0m \u001b[38;5;28mself\u001b[39m\u001b[38;5;241m.\u001b[39mframes \u001b[38;5;241m=\u001b[39m \u001b[38;5;28;01mNone\u001b[39;00m\n\u001b[0;32m     27\u001b[0m \u001b[38;5;28mself\u001b[39m\u001b[38;5;241m.\u001b[39mall_channels \u001b[38;5;241m=\u001b[39m []\n\u001b[1;32m---> 28\u001b[0m \u001b[38;5;28;43mself\u001b[39;49m\u001b[38;5;241;43m.\u001b[39;49m\u001b[43mread_bvh\u001b[49m\u001b[43m(\u001b[49m\u001b[43mbvh_file_path\u001b[49m\u001b[43m)\u001b[49m\n\u001b[0;32m     29\u001b[0m \u001b[38;5;28mself\u001b[39m\u001b[38;5;241m.\u001b[39mroot \u001b[38;5;241m=\u001b[39m \u001b[38;5;28mself\u001b[39m\u001b[38;5;241m.\u001b[39mFind_Root(\u001b[38;5;28mself\u001b[39m\u001b[38;5;241m.\u001b[39mjoint_List)\n\u001b[0;32m     30\u001b[0m \u001b[38;5;28mself\u001b[39m\u001b[38;5;241m.\u001b[39msorted_joint_list \u001b[38;5;241m=\u001b[39m \u001b[38;5;28mself\u001b[39m\u001b[38;5;241m.\u001b[39msort_primary_joint_list(\u001b[38;5;28mself\u001b[39m\u001b[38;5;241m.\u001b[39mjoint_List)\n",
      "File \u001b[1;32md:\\BaiduSyncdisk\\games105\\GAMES105-作业\\GAMES105-作业\\lab1\\BVH_Reader\\bvh_read2.py:50\u001b[0m, in \u001b[0;36mBone_Tree.read_bvh\u001b[1;34m(self, file_path)\u001b[0m\n\u001b[0;32m     48\u001b[0m \u001b[38;5;28;01mdef\u001b[39;00m \u001b[38;5;21mread_bvh\u001b[39m(\u001b[38;5;28mself\u001b[39m, file_path) \u001b[38;5;241m-\u001b[39m\u001b[38;5;241m>\u001b[39m \u001b[38;5;28;01mNone\u001b[39;00m:\n\u001b[0;32m     49\u001b[0m     bvh_data \u001b[38;5;241m=\u001b[39m []\n\u001b[1;32m---> 50\u001b[0m     \u001b[38;5;28;01mwith\u001b[39;00m \u001b[38;5;28mopen\u001b[39m(file_path, \u001b[38;5;124m\"\u001b[39m\u001b[38;5;124mr\u001b[39m\u001b[38;5;124m\"\u001b[39m) \u001b[38;5;28;01mas\u001b[39;00m f:\n\u001b[0;32m     51\u001b[0m         \u001b[38;5;28;01mfor\u001b[39;00m line \u001b[38;5;129;01min\u001b[39;00m f:\n\u001b[0;32m     52\u001b[0m             bvh_data\u001b[38;5;241m.\u001b[39mappend(line\u001b[38;5;241m.\u001b[39msplit())\n",
      "\u001b[1;31mFileNotFoundError\u001b[0m: [Errno 2] No such file or directory: 'd:\\\\BaiduSyncdisk\\\\games105\\\\GAMES105-作业\\\\GAMES105-作业\\\\lab1\\\\data\\\\A_pos_run.bvh'"
     ]
    }
   ],
   "source": [
    "import os\n",
    "\n",
    "current_directory = os.getcwd()\n",
    "print(current_directory)\n",
    "T_pos_bvh_file = os.path.join(current_directory, 'data', 'walk60.bvh')\n",
    "A_pos_bvh_file = os.path.join(current_directory, 'data', 'A_pos_run.bvh')\n",
    "\n",
    "T_joint_name, _, _, = part1_calculate_T_pose(T_pos_bvh_file)\n",
    "A_joint_name, _, _, = part1_calculate_T_pose(A_pos_bvh_file)\n"
   ]
  },
  {
   "cell_type": "code",
   "execution_count": 7,
   "metadata": {},
   "outputs": [
    {
     "ename": "FileNotFoundError",
     "evalue": "[Errno 2] No such file or directory: 'D://BaiduSyncdisk//games105//GAMES105-作业//GAMES105-作业//lab1//data//A_pos_run.bvh'",
     "output_type": "error",
     "traceback": [
      "\u001b[1;31m---------------------------------------------------------------------------\u001b[0m",
      "\u001b[1;31mFileNotFoundError\u001b[0m                         Traceback (most recent call last)",
      "Cell \u001b[1;32mIn[7], line 4\u001b[0m\n\u001b[0;32m      2\u001b[0m A_pos_bvh_file \u001b[38;5;241m=\u001b[39m \u001b[38;5;124mr\u001b[39m\u001b[38;5;124m'\u001b[39m\u001b[38;5;124mD://BaiduSyncdisk//games105//GAMES105-作业//GAMES105-作业//lab1//data//A_pos_run.bvh\u001b[39m\u001b[38;5;124m'\u001b[39m\n\u001b[0;32m      3\u001b[0m T_joint_name, _, _, \u001b[38;5;241m=\u001b[39m part1_calculate_T_pose(T_pos_bvh_file)\n\u001b[1;32m----> 4\u001b[0m A_joint_name, _, _, \u001b[38;5;241m=\u001b[39m \u001b[43mpart1_calculate_T_pose\u001b[49m\u001b[43m(\u001b[49m\u001b[43mA_pos_bvh_file\u001b[49m\u001b[43m)\u001b[49m\n",
      "File \u001b[1;32md:\\BaiduSyncdisk\\games105\\GAMES105-作业\\GAMES105-作业\\lab1\\Lab1_FK_answers.py:34\u001b[0m, in \u001b[0;36mpart1_calculate_T_pose\u001b[1;34m(bvh_file_path)\u001b[0m\n\u001b[0;32m     23\u001b[0m \u001b[38;5;28;01mdef\u001b[39;00m \u001b[38;5;21mpart1_calculate_T_pose\u001b[39m(bvh_file_path):\n\u001b[0;32m     24\u001b[0m \u001b[38;5;250m    \u001b[39m\u001b[38;5;124;03m\"\"\"请填写以下内容\u001b[39;00m\n\u001b[0;32m     25\u001b[0m \u001b[38;5;124;03m    输入： bvh 文件路径\u001b[39;00m\n\u001b[0;32m     26\u001b[0m \u001b[38;5;124;03m    输出:\u001b[39;00m\n\u001b[1;32m   (...)\u001b[0m\n\u001b[0;32m     32\u001b[0m \u001b[38;5;124;03m        joint_name顺序应该和bvh一致\u001b[39;00m\n\u001b[0;32m     33\u001b[0m \u001b[38;5;124;03m    \"\"\"\u001b[39;00m\n\u001b[1;32m---> 34\u001b[0m     Tree \u001b[38;5;241m=\u001b[39m \u001b[43mBone_Tree\u001b[49m\u001b[43m(\u001b[49m\u001b[43mbvh_file_path\u001b[49m\u001b[43m)\u001b[49m\n\u001b[0;32m     35\u001b[0m     joint_name \u001b[38;5;241m=\u001b[39m Tree\u001b[38;5;241m.\u001b[39mjoint_name\n\u001b[0;32m     36\u001b[0m     joint_parent \u001b[38;5;241m=\u001b[39m Tree\u001b[38;5;241m.\u001b[39mjoint_parent\n",
      "File \u001b[1;32md:\\BaiduSyncdisk\\games105\\GAMES105-作业\\GAMES105-作业\\lab1\\BVH_Reader\\bvh_read2.py:28\u001b[0m, in \u001b[0;36mBone_Tree.__init__\u001b[1;34m(self, bvh_file_path)\u001b[0m\n\u001b[0;32m     26\u001b[0m \u001b[38;5;28mself\u001b[39m\u001b[38;5;241m.\u001b[39mframes \u001b[38;5;241m=\u001b[39m \u001b[38;5;28;01mNone\u001b[39;00m\n\u001b[0;32m     27\u001b[0m \u001b[38;5;28mself\u001b[39m\u001b[38;5;241m.\u001b[39mall_channels \u001b[38;5;241m=\u001b[39m []\n\u001b[1;32m---> 28\u001b[0m \u001b[38;5;28;43mself\u001b[39;49m\u001b[38;5;241;43m.\u001b[39;49m\u001b[43mread_bvh\u001b[49m\u001b[43m(\u001b[49m\u001b[43mbvh_file_path\u001b[49m\u001b[43m)\u001b[49m\n\u001b[0;32m     29\u001b[0m \u001b[38;5;28mself\u001b[39m\u001b[38;5;241m.\u001b[39mroot \u001b[38;5;241m=\u001b[39m \u001b[38;5;28mself\u001b[39m\u001b[38;5;241m.\u001b[39mFind_Root(\u001b[38;5;28mself\u001b[39m\u001b[38;5;241m.\u001b[39mjoint_List)\n\u001b[0;32m     30\u001b[0m \u001b[38;5;28mself\u001b[39m\u001b[38;5;241m.\u001b[39msorted_joint_list \u001b[38;5;241m=\u001b[39m \u001b[38;5;28mself\u001b[39m\u001b[38;5;241m.\u001b[39msort_primary_joint_list(\u001b[38;5;28mself\u001b[39m\u001b[38;5;241m.\u001b[39mjoint_List)\n",
      "File \u001b[1;32md:\\BaiduSyncdisk\\games105\\GAMES105-作业\\GAMES105-作业\\lab1\\BVH_Reader\\bvh_read2.py:50\u001b[0m, in \u001b[0;36mBone_Tree.read_bvh\u001b[1;34m(self, file_path)\u001b[0m\n\u001b[0;32m     48\u001b[0m \u001b[38;5;28;01mdef\u001b[39;00m \u001b[38;5;21mread_bvh\u001b[39m(\u001b[38;5;28mself\u001b[39m, file_path) \u001b[38;5;241m-\u001b[39m\u001b[38;5;241m>\u001b[39m \u001b[38;5;28;01mNone\u001b[39;00m:\n\u001b[0;32m     49\u001b[0m     bvh_data \u001b[38;5;241m=\u001b[39m []\n\u001b[1;32m---> 50\u001b[0m     \u001b[38;5;28;01mwith\u001b[39;00m \u001b[38;5;28mopen\u001b[39m(file_path, \u001b[38;5;124m\"\u001b[39m\u001b[38;5;124mr\u001b[39m\u001b[38;5;124m\"\u001b[39m) \u001b[38;5;28;01mas\u001b[39;00m f:\n\u001b[0;32m     51\u001b[0m         \u001b[38;5;28;01mfor\u001b[39;00m line \u001b[38;5;129;01min\u001b[39;00m f:\n\u001b[0;32m     52\u001b[0m             bvh_data\u001b[38;5;241m.\u001b[39mappend(line\u001b[38;5;241m.\u001b[39msplit())\n",
      "\u001b[1;31mFileNotFoundError\u001b[0m: [Errno 2] No such file or directory: 'D://BaiduSyncdisk//games105//GAMES105-作业//GAMES105-作业//lab1//data//A_pos_run.bvh'"
     ]
    }
   ],
   "source": [
    "T_pos_bvh_file = r'D://BaiduSyncdisk//games105//GAMES105-作业//GAMES105-作业//lab1//data//walk60.bvh'\n",
    "A_pos_bvh_file = r'D://BaiduSyncdisk//games105//GAMES105-作业//GAMES105-作业//lab1//data//A_pos_run.bvh'\n",
    "T_joint_name, _, _, = part1_calculate_T_pose(T_pos_bvh_file)\n",
    "A_joint_name, _, _, = part1_calculate_T_pose(A_pos_bvh_file)"
   ]
  }
 ],
 "metadata": {
  "kernelspec": {
   "display_name": "Python 3",
   "language": "python",
   "name": "python3"
  },
  "language_info": {
   "codemirror_mode": {
    "name": "ipython",
    "version": 3
   },
   "file_extension": ".py",
   "mimetype": "text/x-python",
   "name": "python",
   "nbconvert_exporter": "python",
   "pygments_lexer": "ipython3",
   "version": "3.11.9"
  }
 },
 "nbformat": 4,
 "nbformat_minor": 2
}
