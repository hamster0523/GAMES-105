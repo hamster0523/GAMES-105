{
 "cells": [
  {
   "cell_type": "code",
   "execution_count": null,
   "metadata": {},
   "outputs": [],
   "source": [
    "from dataclasses import dataclass\n",
    "from collections import deque\n",
    "\n",
    "@dataclass\n",
    "class Node:\n",
    "    name : str\n",
    "    offset : list\n",
    "    channels : dict\n",
    "    child : list\n",
    "    parent : str\n",
    "    first_in : bool\n",
    "    \n",
    "file_path = \"walk60.bvh\"\n",
    "bvh_data = []\n",
    "with open(file_path, 'r') as f:\n",
    "    for line in f:\n",
    "        bvh_data.append(line.split())\n",
    "\n",
    "num_frames = 0\n",
    "frame_time = 0\n",
    "frames = []\n",
    "joint_List = []\n",
    "info_List = []\n",
    "for line in bvh_data:\n",
    "    this_line = line\n",
    "    if(this_line[0] == \"Hierarchy\"): continue\n",
    "    if(this_line[0] == \"MOTION\"): continue\n",
    "    if(this_line[0] == \"Frames:\"):\n",
    "        num_frames = int(this_line[1])\n",
    "        continue\n",
    "    if(this_line[0] == \"Frame\"):\n",
    "        frame_time = float(this_line[2])\n",
    "        continue\n",
    "    if(this_line[0] == \"{\" or\n",
    "       this_line[0] == \"ROOT\" or\n",
    "       this_line[0] == \"}\" or\n",
    "       this_line[0] == \"End\" or\n",
    "       this_line[0] == \"JOINT\" or\n",
    "       this_line[0] == \"OFFSET\" or\n",
    "       this_line[0] == \"CHANNELS\"):\n",
    "        info_List.append(this_line)\n",
    "        continue\n",
    "    frames.append(this_line)\n",
    "    \n",
    "# # 处理栈中数据\n",
    "# def Process_data(stack):\n",
    "#     some_data = []\n",
    "#     while(stack):\n",
    "#         info_pop = stack.pop()\n",
    "#         if(type(info_pop) != Node and info_pop[0] == \"{\"):\n",
    "#             break\n",
    "#         elif(type(info_pop) != Node and info_pop[0] == \"}\"):\n",
    "#             continue\n",
    "#         else:\n",
    "#             some_data.append(info_pop)\n",
    "#     print(some_data)\n",
    "#     now_node = Node(\n",
    "#         name = None,\n",
    "#         offset = [],\n",
    "#         channels = {},\n",
    "#         child = [],\n",
    "#         parent = None,\n",
    "#         first_in = True\n",
    "#     )\n",
    "#     last_node = None\n",
    "#     for i in some_data:\n",
    "#         # if(type(i) != Node and i[0] == \"OFFSET\"):\n",
    "#         #     now_node.offset = [float(i[1]), float(i[2]), float(i[3])]\n",
    "#         # elif(type(i) != Node  and i[0] == \"CHANNELS\"):\n",
    "#         #     now_node.channels = {\n",
    "#         #         \"num_channels\" : int(i[1]),\n",
    "#         #         \"channels\" : [i[1:]]\n",
    "#         #     }\n",
    "#         # elif(type(i) != Node and i[0] == \"JOINT\"):\n",
    "#         #     now_node.name = i[1]\n",
    "#         # elif(type(i) == Node):\n",
    "#         #     last_node = i\n",
    "#         #     i += 1\n",
    "#         if(type(i) == Node):\n",
    "#             last_node = i\n",
    "#             continue\n",
    "#         if(type(i) != Node and i[0] == \"OFFSET\"):\n",
    "#             now_node.offset = [float(i[1]), float(i[2]), float(i[3])]\n",
    "#         elif(type(i) != Node and i[0] == \"CHANNELS\"):\n",
    "#             now_node.channels = {\n",
    "#                 \"num_channels\" : int(i[1]),\n",
    "#                 \"channels\" : [i[1:]]}\n",
    "#         elif(type(i) != Node and i[0] == \"End\" or i[0] == \"Joint\"):\n",
    "#             if(i[0] == \"End\") : last_node.name = i[0] + i[1]\n",
    "#             if(i[0] == \"Joint\") : last_node.name = i[1]\n",
    "#             last_node.parent = now_node.name\n",
    "#             now_node.child.append(last_node)\n",
    "#             last_node.first_in = False\n",
    "#             joint_List.append(last_node)\n",
    "            \n",
    "#         print(now_node)\n",
    "#         print(last_node)\n",
    "#     return now_node\n",
    "        \n",
    "    \n",
    "            \n",
    "len_info = len(info_List)\n",
    "node_list = []\n",
    "stack = deque()\n",
    "# for i in range(len_info):\n",
    "#     if(info_List[i][0] == \"{\"):\n",
    "#         stack.append(info_List[i])\n",
    "#         while(info_List[i][0] != \"}\"):\n",
    "#             i += 1\n",
    "#             stack.append(info_List[i])\n",
    "#     elif(info_List[i][0] == \"}\"):\n",
    "#         stack.pop()\n",
    "#         print(stack.pop())\n",
    "for i in range(len_info):\n",
    "    if info_List[i][0] == \"ROOT\":\n",
    "        root = Node(\n",
    "             name = info_List[i][0] + info_List[i][1],\n",
    "                offset = [],\n",
    "                channels = {},\n",
    "                child = [],\n",
    "                parent = None,\n",
    "                first_in = True)\n",
    "        node_list.append(root)\n",
    "        joint_List.append(root)\n",
    "        continue\n",
    "    if info_List[i][0] == \"{\" or info_List[i][0] == \"OFFSET\" or \\\n",
    "        info_List[i][0] == \"CHANNELS\" or info_List[i][0] == \"End\" or \\\n",
    "        info_List[i][0] == \"JOINT\":\n",
    "            stack.append(info_List[i])\n",
    "            continue\n",
    "    if info_List[i][0] == \"}\":\n",
    "        stack.append(info_List[i])\n",
    "\n",
    " \n",
    "       \n",
    "    \n",
    "        \n"
   ]
  },
  {
   "cell_type": "code",
   "execution_count": null,
   "metadata": {},
   "outputs": [],
   "source": [
    "info_List"
   ]
  },
  {
   "cell_type": "code",
   "execution_count": null,
   "metadata": {},
   "outputs": [],
   "source": [
    "node_list"
   ]
  },
  {
   "cell_type": "code",
   "execution_count": null,
   "metadata": {},
   "outputs": [],
   "source": [
    "class Node:\n",
    "    def __init__(self, name):\n",
    "        self.name = name\n",
    "        self.offset = None\n",
    "        self.channels = []\n",
    "        self.children = []\n",
    "\n",
    "    def __repr__(self):\n",
    "        return f\"Node({self.name})\"\n",
    "\n",
    "\n",
    "def build_skeleton(bvh_data):\n",
    "    stack = []\n",
    "    root = None\n",
    "    current_node = None\n",
    "\n",
    "    for line in bvh_data:\n",
    "        if line[0] == 'ROOT' or line[0] == 'JOINT':\n",
    "            # 创建新节点\n",
    "            node = Node(line[1])\n",
    "            if current_node is not None:\n",
    "                # 添加为当前节点的子节点\n",
    "                current_node.children.append(node)\n",
    "                stack.append(current_node)\n",
    "            else:\n",
    "                root = node\n",
    "            current_node = node\n",
    "        elif line[0] == 'OFFSET':\n",
    "            # 设置偏移量\n",
    "            current_node.offset = tuple(map(float, line[1:]))\n",
    "        elif line[0] == 'CHANNELS':\n",
    "            # 设置通道信息\n",
    "            current_node.channels = line[2:]  # 跳过通道数量\n",
    "        elif line[0] == '}':\n",
    "            # 结束当前节点的定义，返回到父节点\n",
    "            if stack:\n",
    "                current_node = stack.pop()\n",
    "        elif line[0] == 'End' and line[1] == 'Site':\n",
    "            # 处理末端节点\n",
    "            end_site_node = Node('End Site')\n",
    "            current_node.children.append(end_site_node)\n",
    "            stack.append(current_node)\n",
    "            current_node = end_site_node\n",
    "\n",
    "    return root\n",
    "\n",
    "# 解析示例数据\n",
    "bvh_data = [['ROOT', 'Hips'], ['{'], ['OFFSET', '0.00', '0.00', '0.00'], ['CHANNELS', '6', 'Xposition', 'Yposition', 'Zposition', 'Xrotation', 'Yrotation', 'Zrotation']]\n",
    "skeleton = build_skeleton(info_List)\n",
    "print(skeleton.children)\n"
   ]
  },
  {
   "cell_type": "code",
   "execution_count": null,
   "metadata": {},
   "outputs": [],
   "source": [
    "from dataclasses import dataclass\n",
    "from collections import deque\n",
    "\n",
    "@dataclass\n",
    "class Node:\n",
    "    name : str\n",
    "    offset : list\n",
    "    channels : dict\n",
    "    child : list\n",
    "    parent : str\n",
    "    ID : int\n",
    "    type : str\n",
    "    \n",
    "file_path = \"walk60.bvh\"\n",
    "bvh_data = []\n",
    "with open(file_path, 'r') as f:\n",
    "    for line in f:\n",
    "        bvh_data.append(line.split())\n",
    "\n",
    "num_frames = 0\n",
    "frame_time = 0\n",
    "frames = []\n",
    "joint_List = []\n",
    "info_List = []\n",
    "for line in bvh_data:\n",
    "    this_line = line\n",
    "    if(this_line[0] == \"Hierarchy\"): continue\n",
    "    if(this_line[0] == \"MOTION\"): continue\n",
    "    if(this_line[0] == \"Frames:\"):\n",
    "        num_frames = int(this_line[1])\n",
    "        continue\n",
    "    if(this_line[0] == \"Frame\"):\n",
    "        frame_time = float(this_line[2])\n",
    "        continue\n",
    "    if(this_line[0] == \"{\" or\n",
    "       this_line[0] == \"ROOT\" or\n",
    "       this_line[0] == \"}\" or\n",
    "       this_line[0] == \"End\" or\n",
    "       this_line[0] == \"JOINT\" or\n",
    "       this_line[0] == \"OFFSET\" or\n",
    "       this_line[0] == \"CHANNELS\"):\n",
    "        info_List.append(this_line)\n",
    "        continue\n",
    "    frames.append(this_line)\n",
    "    \n",
    "offset_stack = deque()\n",
    "channel_stack = deque()\n",
    "node_stack = deque()\n",
    "joint_List = []\n",
    "node_id = 0\n",
    "\n",
    "for info in info_List:\n",
    "    if(info[0] == \"ROOT\"):\n",
    "        node_stack.append(Node(\n",
    "            name = \"RootJoint\",\n",
    "            offset = None,\n",
    "            channels = None,\n",
    "            child = [],\n",
    "            parent = None,\n",
    "            ID = node_id,\n",
    "            type = \"root\"\n",
    "        ))\n",
    "        node_id += 1\n",
    "        continue\n",
    "    elif info[0] == \"{\": continue\n",
    "    elif info[0] == \"OFFSET\":\n",
    "        offset_stack.append(list(map(float, info[1:])))\n",
    "        continue\n",
    "    elif info[0] == \"CHANNELS\":\n",
    "        channel_stack.append({\n",
    "            \"channel_num\" : int(info[1]),\n",
    "            \"channels\" : info[2:]\n",
    "        })\n",
    "    elif info[0] == \"JOINT\":\n",
    "        node_stack.append(Node(\n",
    "            name = info[1],\n",
    "            offset = None,\n",
    "            channels = None,\n",
    "            child = [],\n",
    "            parent = None,\n",
    "            ID = node_id,\n",
    "            type = \"joint\"\n",
    "        ))\n",
    "        node_id += 1\n",
    "        continue\n",
    "    elif info[0] == \"End\":\n",
    "        node_stack.append(Node(\n",
    "            name = info[0] + info[1],\n",
    "            offset = None,\n",
    "            channels = None,\n",
    "            parent = None,\n",
    "            child = None,\n",
    "            type = \"End\",\n",
    "            ID = node_id\n",
    "        ))\n",
    "        node_id += 1\n",
    "        continue\n",
    "    elif info[0] == \"}\":\n",
    "        pop_node = node_stack.pop()\n",
    "        if pop_node.type == \"End\":\n",
    "            top_node = node_stack[-1]\n",
    "            pop_node.name = top_node.name + \"_end\"\n",
    "            pop_node.parent = top_node.name\n",
    "            pop_node.child = None\n",
    "            offset_top = offset_stack.pop()\n",
    "            pop_node.offset = offset_top\n",
    "            pop_node.channels = None\n",
    "            top_node.child.append(pop_node)\n",
    "            joint_List.append(pop_node)\n",
    "        elif pop_node.type == \"joint\":\n",
    "            top_node = node_stack[-1]\n",
    "            pop_offset = offset_stack.pop()\n",
    "            pop_channels = channel_stack.pop()\n",
    "            # print(pop_channels)\n",
    "            pop_node.offset = pop_offset\n",
    "            pop_node.channels = pop_channels\n",
    "            pop_node.parent = top_node.name\n",
    "            top_node.child.append(pop_node)\n",
    "            joint_List.append(pop_node)\n",
    "        elif pop_node.type == \"root\":\n",
    "            pop_offset = offset_stack.pop()\n",
    "            pop_channels = channel_stack.pop()\n",
    "            # print(pop_channels)\n",
    "            pop_node.offset = pop_offset\n",
    "            pop_node.channels = pop_channels\n",
    "            pop_node.parent = None\n",
    "            joint_List.append(pop_node)\n",
    "        continue\n",
    "               \n",
    "            "
   ]
  },
  {
   "cell_type": "code",
   "execution_count": null,
   "metadata": {},
   "outputs": [],
   "source": [
    "for node in joint_List:\n",
    "    if(node.name == \"RootJoint\"):\n",
    "        print(len(node.child))"
   ]
  },
  {
   "cell_type": "code",
   "execution_count": null,
   "metadata": {},
   "outputs": [],
   "source": [
    "from read_bvh import Bone_Tree\n",
    "\n",
    "bone_tree = Bone_Tree('walk60.bvh')"
   ]
  },
  {
   "cell_type": "code",
   "execution_count": null,
   "metadata": {},
   "outputs": [],
   "source": [
    "bone_tree.all_channels"
   ]
  },
  {
   "cell_type": "code",
   "execution_count": null,
   "metadata": {},
   "outputs": [],
   "source": [
    "bone_tree.channels"
   ]
  },
  {
   "cell_type": "code",
   "execution_count": null,
   "metadata": {},
   "outputs": [],
   "source": [
    "bone_tree.frames[0]"
   ]
  },
  {
   "cell_type": "code",
   "execution_count": null,
   "metadata": {},
   "outputs": [],
   "source": [
    "from read_bvh import Bone_Tree"
   ]
  },
  {
   "cell_type": "code",
   "execution_count": null,
   "metadata": {},
   "outputs": [],
   "source": [
    "import numpy as np\n",
    "from scipy.spatial.transform import Rotation as R\n",
    "def load_motion_data(bvh_file_path):\n",
    "    \"\"\"part2 辅助函数，读取bvh文件\"\"\"\n",
    "    with open(bvh_file_path, 'r') as f:\n",
    "        lines = f.readlines()\n",
    "        for i in range(len(lines)):\n",
    "            if lines[i].startswith('Frame Time'):\n",
    "                break\n",
    "        motion_data = []\n",
    "        for line in lines[i+1:]:\n",
    "            data = [float(x) for x in line.split()]\n",
    "            if len(data) == 0:\n",
    "                break\n",
    "            motion_data.append(np.array(data).reshape(1,-1))\n",
    "        motion_data = np.concatenate(motion_data, axis=0)\n",
    "    return motion_data"
   ]
  },
  {
   "cell_type": "code",
   "execution_count": null,
   "metadata": {},
   "outputs": [],
   "source": [
    "motion_data = load_motion_data(bvh_file_path= 'walk60.bvh')"
   ]
  },
  {
   "cell_type": "code",
   "execution_count": null,
   "metadata": {},
   "outputs": [],
   "source": [
    "motion_data"
   ]
  },
  {
   "cell_type": "code",
   "execution_count": null,
   "metadata": {},
   "outputs": [],
   "source": [
    "print(motion_data.shape)"
   ]
  },
  {
   "cell_type": "code",
   "execution_count": null,
   "metadata": {},
   "outputs": [],
   "source": [
    "motion_data_my = Bone_Tree('walk60.bvh').frames"
   ]
  },
  {
   "cell_type": "code",
   "execution_count": null,
   "metadata": {},
   "outputs": [],
   "source": [
    "motion_data_my"
   ]
  },
  {
   "cell_type": "code",
   "execution_count": null,
   "metadata": {},
   "outputs": [],
   "source": [
    "from read_bvh import Bone_Tree\n",
    "tree = Bone_Tree(bvh_file_path= 'walk60.bvh')"
   ]
  },
  {
   "cell_type": "code",
   "execution_count": null,
   "metadata": {},
   "outputs": [],
   "source": [
    "tree.sorted_joint_list"
   ]
  },
  {
   "cell_type": "code",
   "execution_count": null,
   "metadata": {},
   "outputs": [],
   "source": [
    "name_list = []\n",
    "id_list = []\n",
    "parent_list = []\n",
    "offset_list = []\n",
    "for joint in tree.sorted_joint_list:\n",
    "    name_list.append(joint.name)\n",
    "    id_list.append(joint.ID)\n",
    "    parent_list.append(joint.parent[\"parent_id\"])\n",
    "    offset_list.append(joint.offset)\n",
    "print(name_list)\n",
    "print(id_list)\n",
    "print(parent_list)\n",
    "print(len(offset_list))\n",
    "print(tree.node_count)"
   ]
  },
  {
   "cell_type": "code",
   "execution_count": null,
   "metadata": {},
   "outputs": [],
   "source": [
    "tree.joint_List"
   ]
  },
  {
   "cell_type": "code",
   "execution_count": null,
   "metadata": {},
   "outputs": [],
   "source": [
    "from read_bvh import Bone_Tree\n",
    "tree = Bone_Tree(bvh_file_path= 'walk60.bvh')"
   ]
  },
  {
   "cell_type": "code",
   "execution_count": null,
   "metadata": {},
   "outputs": [],
   "source": [
    "print(tree.joint_name)\n",
    "print(tree.)\n",
    "print(tree.joint_parent)"
   ]
  },
  {
   "cell_type": "code",
   "execution_count": null,
   "metadata": {},
   "outputs": [],
   "source": [
    "from read_bvh import Bone_Tree\n",
    "from dataclasses import dataclass\n",
    "from collections import deque\n",
    "import numpy as np\n",
    "from scipy.spatial.transform import Rotation as R\n",
    "\n",
    "bone_tree = Bone_Tree(\"walk60.bvh\")"
   ]
  },
  {
   "cell_type": "code",
   "execution_count": null,
   "metadata": {},
   "outputs": [],
   "source": [
    "joint_List = bone_tree.sorted_joint_list\n",
    "joint_name = bone_tree.joint_name\n",
    "joint_parent = bone_tree.joint_parent\n",
    "joint_offset = bone_tree.joint_offset\n",
    "motion_data = bone_tree.frames\n",
    "\n",
    "\n",
    "joint_List"
   ]
  },
  {
   "cell_type": "code",
   "execution_count": null,
   "metadata": {},
   "outputs": [],
   "source": [
    "def find_parent_rotation(Q, parent_index):\n",
    "    for joint in Q:\n",
    "        if joint['id'] == parent_index:\n",
    "            return joint['rotation']\n",
    "        \n",
    "def find_parent_location(Q, parent_index):\n",
    "    for joint in Q:\n",
    "        if joint['id'] == parent_index:\n",
    "            return joint['location']\n",
    "\n",
    "def forward_kinematics(\n",
    "        joint_list: list,\n",
    "        motion_data: list,\n",
    "    ) -> np.array:\n",
    "        # Q4 = Q3R4 = Q2R3R4 = Q1R2R3R4 = Q0R1R2R3R4 = R0R1R2R3R4\n",
    "        # DP 累推\n",
    "        # return : joint_position : shape -> num_frames * num_joint * 3\n",
    "        # return : joint_rotation : shape -> num_frames * num_joint * 4 (quaternion)\n",
    "        joint_all_frames_info_rotation_local = []\n",
    "        for frame in motion_data:\n",
    "            # Q : this_frame joint_rotation -> shape : num_joint * 4\n",
    "            Q = []\n",
    "            # Only root joint has translation\n",
    "            T0 = None\n",
    "            # joint_list is sorted by ID : the sequence follow the bvh hierarchy\n",
    "            for joint in joint_list:\n",
    "                if joint.type == \"root\":\n",
    "                    # root channels is 6 : first 3 is translate , second 3 is rotation\n",
    "                    translate = frame[:3]\n",
    "                    rotation = frame[3:6]\n",
    "                    # translate_euler = R.from_euler('XYZ', translate, degrees=True)\n",
    "                    T0 = np.array(translate)\n",
    "                    rotation_euler = R.from_euler(\"XYZ\", rotation, degrees=True)\n",
    "                    rotation_quaternion = rotation_euler.as_quat()\n",
    "                    # root's location is (0,0,0)\n",
    "                    Q.append(\n",
    "                        {\n",
    "                            \"id\": 0,\n",
    "                            \"rotation\" : rotation_quaternion,\n",
    "                            \"location\" : np.array([0, 0, 0]),\n",
    "                        }\n",
    "                    )\n",
    "                elif joint.type == \"joint\":\n",
    "                    joint_index = joint.ID - 1\n",
    "                    parent_index = joint.parent[\"parent_id\"]\n",
    "                    joint_rotation = frame[\n",
    "                       joint.channel_index : joint.channel_index + 3\n",
    "                    ]\n",
    "                    #print(joint.ID)\n",
    "                    #print(joint_index)\n",
    "                    joint_rotation = np.array(list(map(float, joint_rotation)))\n",
    "                    # parent_roation is quaternion\n",
    "                    parent_rotation = find_parent_rotation(Q, parent_index)\n",
    "                    #print(joint_rotation)\n",
    "                    #print(type(joint_rotation))\n",
    "                    #print(R.from_euler(\"xyz\", joint_rotation, degrees=True))\n",
    "                    #print(R.from_euler(\"xyz\", joint_rotation, degrees=True).as_matrix())\n",
    "                    this_joint_rotation = R.from_matrix(\n",
    "                        R.from_quat(parent_rotation).as_matrix()\n",
    "                        @ R.from_euler(\"xyz\", joint_rotation, degrees=True).as_matrix()\n",
    "                    ).as_quat()\n",
    "                    # print(this_joint_rotation)\n",
    "                    # print(\"--------------\")\n",
    "                    # parent_location is np.array -> 3 dim vec\n",
    "                    parent_location = find_parent_location(Q, parent_index)\n",
    "                    # joint_offset is np.array -> 3 dim vec\n",
    "                    joint_offset = joint.offset\n",
    "                    # ID == 1 -> need translate\n",
    "                    if joint.ID == 1:\n",
    "                        T0 = list(map(float, T0))\n",
    "                        this_joint_location = (\n",
    "                            parent_location\n",
    "                            + R.from_quat(parent_rotation).apply(np.array(joint_offset))\n",
    "                            + T0\n",
    "                        )\n",
    "                    else:\n",
    "                        this_joint_location = (\n",
    "                            parent_location + R.from_quat(parent_rotation).apply(np.array(joint_offset))\n",
    "                        )\n",
    "                    Q.append(\n",
    "                        {\n",
    "                            'id' : joint.ID,\n",
    "                            \"rotation\" : this_joint_rotation,\n",
    "                            \"location\" : this_joint_location,\n",
    "                        }\n",
    "                    )\n",
    "                elif joint.type == \"End\":\n",
    "                    parent_index = joint.parent[\"parent_id\"]\n",
    "                    parent_rotation = find_parent_rotation(Q, parent_index)\n",
    "                    parent_location = find_parent_location(Q, parent_index)\n",
    "                    this_offset = joint.offset\n",
    "                    this_joint_location = parent_location + R.from_quat(parent_rotation).apply(np.array(this_offset))\n",
    "                    Q.append(\n",
    "                        {\n",
    "                            \"id\" : joint.ID,\n",
    "                            \"rotation\" : None,\n",
    "                            \"location\" : this_joint_location\n",
    "                        }\n",
    "                    )\n",
    "            joint_all_frames_info_rotation_local.append(Q)\n",
    "        return joint_all_frames_info_rotation_local\n",
    "                \n",
    "                    "
   ]
  },
  {
   "cell_type": "code",
   "execution_count": null,
   "metadata": {},
   "outputs": [],
   "source": [
    "joint_all_position = forward_kinematics(\n",
    "    joint_List,\n",
    "    motion_data = motion_data)\n",
    "print(np.array(joint_all_position).shape)"
   ]
  },
  {
   "cell_type": "code",
   "execution_count": null,
   "metadata": {},
   "outputs": [],
   "source": [
    "print(joint_all_position[0])"
   ]
  },
  {
   "cell_type": "code",
   "execution_count": null,
   "metadata": {},
   "outputs": [],
   "source": [
    "from read_bvh import Bone_Tree\n",
    "from dataclasses import dataclass\n",
    "from collections import deque\n",
    "import numpy as np\n",
    "from scipy.spatial.transform import Rotation as R\n",
    "\n",
    "bone_tree = Bone_Tree(\"walk60.bvh\")"
   ]
  },
  {
   "cell_type": "code",
   "execution_count": null,
   "metadata": {},
   "outputs": [],
   "source": [
    "bone_tree.all_frame_location"
   ]
  },
  {
   "cell_type": "code",
   "execution_count": null,
   "metadata": {},
   "outputs": [],
   "source": [
    "bone_tree.all_frame_rotation"
   ]
  },
  {
   "cell_type": "code",
   "execution_count": null,
   "metadata": {},
   "outputs": [],
   "source": [
    "from read_bvh import Bone_Tree\n",
    "from scipy.spatial.transform import Rotation as R\n",
    "import numpy as np"
   ]
  },
  {
   "cell_type": "code",
   "execution_count": null,
   "metadata": {},
   "outputs": [],
   "source": [
    "bone_tree_A_pos = Bone_Tree(\"A_pose_run.bvh\")\n",
    "bone_tree_T_pos = Bone_Tree(\"walk60.bvh\")"
   ]
  },
  {
   "cell_type": "code",
   "execution_count": null,
   "metadata": {},
   "outputs": [],
   "source": [
    "bone_tree_A_pos.joint_name_without_end"
   ]
  },
  {
   "cell_type": "code",
   "execution_count": null,
   "metadata": {},
   "outputs": [],
   "source": [
    "bone_tree_A_pos.joint_parent"
   ]
  },
  {
   "cell_type": "code",
   "execution_count": null,
   "metadata": {},
   "outputs": [],
   "source": [
    "bone_tree_T_pos.joint_parent"
   ]
  },
  {
   "cell_type": "code",
   "execution_count": null,
   "metadata": {},
   "outputs": [],
   "source": [
    "bone_tree_A_pos_joint_name_without_end = bone_tree_A_pos.joint_name_without_end\n",
    "bone_tree_T_pos_joint_name_without_end = bone_tree_T_pos.joint_name_without_end\n",
    "A_pos_frame = bone_tree_A_pos.frames\n",
    "A_pos_processed_frame = bone_tree_A_pos.process_A_pos_frame(A_pos_frame = A_pos_frame,\n",
    "                                                            T_pos_joint_name_without_end = bone_tree_T_pos_joint_name_without_end,\n",
    "                                                            A_pos_joint_name_without_end = bone_tree_A_pos_joint_name_without_end)"
   ]
  },
  {
   "cell_type": "code",
   "execution_count": null,
   "metadata": {},
   "outputs": [],
   "source": [
    "from scipy.spatial.transform import Rotation as R\n",
    "# first step -> calculate all Q-matrices\n",
    "# Q-matrix is transfrom T-pos to A-pos\n",
    "def calculate_Q_matrix(A_pos_frame : list, T_pos_frame : list, joint_name : list) -> list:\n",
    "    Q_matrix_all_frame = [] # -> dict : {joint_name : Q_matrix} -> shape:(num_frames, num_joints)\n",
    "    for A_pos_frame_this, T_pos_frame_this in zip(A_pos_frame, T_pos_frame):\n",
    "        Q_matrix_this_frame = []\n",
    "        print(joint_name)\n",
    "        for idx, joint in enumerate(joint_name):\n",
    "            A_pos_rotation = A_pos_frame_this[3 + idx * 3 : 6 + idx * 3]\n",
    "            # print(\"A_pos_rotation : \", A_pos_rotation)\n",
    "            T_pos_rotation = T_pos_frame_this[3 + idx * 3 : 6 + idx * 3]\n",
    "            # print(\"T_pos_rotation : \", T_pos_rotation)\n",
    "            A_rotation_matrix = R.from_euler(\"XYZ\", A_pos_rotation, degrees = True)\n",
    "            print(\"A_rotation_matrix : \", A_rotation_matrix.as_matrix())\n",
    "            T_rotation_matrix = R.from_euler(\"XYZ\", T_pos_rotation, degrees = True)\n",
    "            print(\"T_rotation_matrix : \", T_rotation_matrix.as_matrix())\n",
    "            # target_matrix * T_rotation_matrix = A_rotation_matrix\n",
    "            # so -> target_matrix = A_rotation_matrix * T_rotation_matrix.inv()\n",
    "            Q_this_joint = A_rotation_matrix * T_rotation_matrix.inv()\n",
    "            Q_matrix_this_frame.append(\n",
    "                {\n",
    "                    \"joint_name\" : joint,\n",
    "                    \"Q_matrix\" : Q_this_joint\n",
    "                }\n",
    "            )\n",
    "        Q_matrix_all_frame.append(Q_matrix_this_frame)\n",
    "    return Q_matrix_all_frame"
   ]
  },
  {
   "cell_type": "code",
   "execution_count": null,
   "metadata": {},
   "outputs": [],
   "source": [
    "Q_matrix = calculate_Q_matrix(A_pos_frame = A_pos_processed_frame, \n",
    "                              T_pos_frame = bone_tree_T_pos.frames,\n",
    "                              joint_name = bone_tree_A_pos.joint_name_without_end)\n",
    "print(Q_matrix)"
   ]
  },
  {
   "cell_type": "code",
   "execution_count": null,
   "metadata": {},
   "outputs": [],
   "source": [
    "Q_matrix"
   ]
  },
  {
   "cell_type": "code",
   "execution_count": null,
   "metadata": {},
   "outputs": [],
   "source": [
    "# ok -> all_Q_has_been_calculated\n",
    "Q_matrix[0][0]['Q_matrix'].as_matrix() \n",
    "print((Q_matrix[0]))\n"
   ]
  },
  {
   "cell_type": "code",
   "execution_count": null,
   "metadata": {},
   "outputs": [],
   "source": [
    "bone_tree_A_pos.sorted_joint_list"
   ]
  },
  {
   "cell_type": "code",
   "execution_count": null,
   "metadata": {},
   "outputs": [],
   "source": [
    "Q_matrix[1]"
   ]
  },
  {
   "cell_type": "code",
   "execution_count": null,
   "metadata": {},
   "outputs": [],
   "source": [
    "def find_node(node_list : list, joint_name : str):\n",
    "    for node in node_list:\n",
    "        if(node.name == joint_name):\n",
    "            return node\n",
    "\n",
    "def find_Q(Q_matrix : list , joint_name : str):\n",
    "    for Q in Q_matrix:\n",
    "        if(Q['joint_name'] == joint_name):\n",
    "            return Q['Q_matrix']\n",
    "\n",
    "# for root node -> Rotation_in_A_pos = Rotation_in_T_pos * Q(from_T_pos_to_A_pos)^T\n",
    "# for none root node -> Rotation_in_A_pos = Q(parent_from_T_pos_to_A_pos) * Rotation_in_T_pos * Q(this_joint_from_T_pos_to_A_pos)\n",
    "\n",
    "def motion_retarget(Q_matrix : list, T_pos_all_frames : list, node_list_in_A_pos : list, node_list_in_T_pos : list) -> list:\n",
    "    # input : rotation_in_A_pos_all_frames,\n",
    "    #         tranformation_matrix_from_T_pos_to_A_pos\n",
    "    #         rotation_in_T_pos_all_frames\n",
    "    # output : retargeting_motion_from_A_pos_to_T_pos_all_frames\n",
    "    all_frame_new_rotation_in_T_pos = []\n",
    "    for idx, T_pos_frame in enumerate(T_pos_all_frames):\n",
    "        this_T_pos_frame = T_pos_frame\n",
    "        # print(this_T_pos_frame)\n",
    "        # print(idx)\n",
    "        # print(Q_matrix)\n",
    "        this_frame_all_Q_matrix = Q_matrix[int(idx)]\n",
    "        # print(this_frame_all_Q_matrix)\n",
    "        this_frame_new_rotation_in_T_pos = []\n",
    "        for idx_joint, one_Q_matrix in enumerate(this_frame_all_Q_matrix):\n",
    "            joint_name = one_Q_matrix['joint_name']\n",
    "            Q_matrix_this_joint = one_Q_matrix['Q_matrix']\n",
    "            this_joint_rotation_in_T_pos = this_T_pos_frame[3 + 3 * idx_joint : 6 + 3 * idx_joint]\n",
    "            joint_node_in_A_pos = find_node(node_list_in_A_pos, joint_name)\n",
    "            joint_parent_name = joint_node_in_A_pos.parent['parent_name'] \n",
    "            parent_Q_matrix = find_Q(this_frame_all_Q_matrix, joint_parent_name)\n",
    "            if(joint_node_in_A_pos.type == 'root'):\n",
    "                # this is a root node\n",
    "                # print(\"this_joint_rotation_in_T_pos: \", this_joint_rotation_in_T_pos)\n",
    "                # print(\"Q_matrix_this_joint: \", Q_matrix_this_joint.as_matrix())\n",
    "                # add T_pos translation to the new_frame_info\n",
    "                this_frame_new_rotation_in_T_pos.append(this_T_pos_frame[0 : 3])\n",
    "                B_rotation = R.from_euler(\"XYZ\", this_joint_rotation_in_T_pos, degrees = True).as_matrix() * Q_matrix_this_joint.as_matrix().transpose()\n",
    "                this_frame_new_rotation_in_T_pos.append(R.from_matrix(B_rotation).as_euler(\"XYZ\", degrees = True).tolist())\n",
    "                continue\n",
    "            else:\n",
    "                B_rotation = parent_Q_matrix.as_matrix() * R.from_euler(\"XYZ\", this_joint_rotation_in_T_pos, degrees = True).as_matrix() * Q_matrix_this_joint.as_matrix().transpose()\n",
    "                this_frame_new_rotation_in_T_pos.append(R.from_matrix(B_rotation).as_euler(\"XYZ\", degrees = True).tolist())\n",
    "        all_frame_new_rotation_in_T_pos.append(np.array(this_frame_new_rotation_in_T_pos).reshape(-1, len(this_T_pos_frame)).tolist()) \n",
    "    return np.array(all_frame_new_rotation_in_T_pos).squeeze().tolist()\n",
    "                     "
   ]
  },
  {
   "cell_type": "code",
   "execution_count": null,
   "metadata": {},
   "outputs": [],
   "source": [
    "new_frame = motion_retarget(\n",
    "    Q_matrix,\n",
    "    T_pos_all_frames = bone_tree_T_pos.frames,\n",
    "    node_list_in_A_pos = bone_tree_A_pos.sorted_joint_list,\n",
    "    node_list_in_T_pos = bone_tree_T_pos.sorted_joint_list\n",
    ")"
   ]
  },
  {
   "cell_type": "code",
   "execution_count": null,
   "metadata": {},
   "outputs": [],
   "source": [
    "new_frame"
   ]
  },
  {
   "cell_type": "code",
   "execution_count": 5,
   "metadata": {},
   "outputs": [],
   "source": [
    "from read_bvh import Bone_Tree\n",
    "import numpy as np\n",
    "\n",
    "bone_tree_T_pos = Bone_Tree(\"walk60.bvh\")"
   ]
  },
  {
   "cell_type": "code",
   "execution_count": 27,
   "metadata": {},
   "outputs": [],
   "source": [
    "a_path_b = bone_tree_T_pos.get_path_from_Ajoint_To_Bjoint(\"lToeJoint_end\", \"RootJoint\")"
   ]
  },
  {
   "cell_type": "code",
   "execution_count": 29,
   "metadata": {},
   "outputs": [
    {
     "name": "stdout",
     "output_type": "stream",
     "text": [
      "0 5\n"
     ]
    }
   ],
   "source": [
    "joint_offsets = bone_tree_T_pos.joint_offset\n",
    "# len(joint_offsets)\n",
    "root_joint_name = a_path_b[1][-1]\n",
    "end_joint_name = a_path_b[1][0]\n",
    "# print(root_joint_name, end_joint_name)\n",
    "root_joint_name_index = bone_tree_T_pos.joint_name.index(root_joint_name)\n",
    "end_joint_name_index = bone_tree_T_pos.joint_name.index(end_joint_name)\n",
    "print(root_joint_name_index, end_joint_name_index)"
   ]
  },
  {
   "cell_type": "code",
   "execution_count": 30,
   "metadata": {},
   "outputs": [
    {
     "data": {
      "text/plain": [
       "array([0., 0., 0.])"
      ]
     },
     "execution_count": 30,
     "metadata": {},
     "output_type": "execute_result"
    }
   ],
   "source": [
    "root_joint_offset = joint_offsets[root_joint_name_index]\n",
    "root_joint_offset"
   ]
  },
  {
   "cell_type": "code",
   "execution_count": 31,
   "metadata": {},
   "outputs": [
    {
     "data": {
      "text/plain": [
       "array([0.01 , 0.002, 0.06 ])"
      ]
     },
     "execution_count": 31,
     "metadata": {},
     "output_type": "execute_result"
    }
   ],
   "source": [
    "end_joint_offset = joint_offsets[end_joint_name_index]\n",
    "end_joint_offset"
   ]
  },
  {
   "cell_type": "code",
   "execution_count": 26,
   "metadata": {},
   "outputs": [],
   "source": [
    "a_path_b = bone_tree_T_pos.get_path_from_Ajoint_To_Bjoint(\"lToeJoint_end\", \"RootJoint\")"
   ]
  },
  {
   "cell_type": "code",
   "execution_count": null,
   "metadata": {},
   "outputs": [],
   "source": []
  },
  {
   "cell_type": "code",
   "execution_count": 6,
   "metadata": {},
   "outputs": [],
   "source": [
    "a_path = bone_tree_T_pos.get_path_from_Ajoint_To_Bjoint(\"lToeJoint_end\", \"lWrist_end\")"
   ]
  },
  {
   "cell_type": "code",
   "execution_count": 7,
   "metadata": {},
   "outputs": [
    {
     "data": {
      "text/plain": [
       "([[5, 4, 3, 2, 1, 0], [12, 11, 10, 9, 8, 7, 6, 0]],\n",
       " [['lToeJoint_end', 'lToeJoint', 'lAnkle', 'lKnee', 'lHip', 'RootJoint'],\n",
       "  ['lWrist_end',\n",
       "   'lWrist',\n",
       "   'lElbow',\n",
       "   'lShoulder',\n",
       "   'lTorso_Clavicle',\n",
       "   'lowerback_torso',\n",
       "   'pelvis_lowerback',\n",
       "   'RootJoint']])"
      ]
     },
     "execution_count": 7,
     "metadata": {},
     "output_type": "execute_result"
    }
   ],
   "source": [
    "a_path"
   ]
  },
  {
   "cell_type": "code",
   "execution_count": 8,
   "metadata": {},
   "outputs": [],
   "source": [
    "a_path_b = bone_tree_T_pos.get_path_from_Ajoint_To_Bjoint(\"lToeJoint_end\", \"RootJoint\")"
   ]
  },
  {
   "cell_type": "code",
   "execution_count": 9,
   "metadata": {},
   "outputs": [
    {
     "data": {
      "text/plain": [
       "([5, 4, 3, 2, 1, 0],\n",
       " ['lToeJoint_end', 'lToeJoint', 'lAnkle', 'lKnee', 'lHip', 'RootJoint'])"
      ]
     },
     "execution_count": 9,
     "metadata": {},
     "output_type": "execute_result"
    }
   ],
   "source": [
    "a_path_b"
   ]
  },
  {
   "cell_type": "code",
   "execution_count": 10,
   "metadata": {},
   "outputs": [],
   "source": [
    "primary_positions, primary_rotations = bone_tree_T_pos.get_bone_tree_primary_positions_rotations_from_AJoint_To_BJoint(\n",
    "    path_info = a_path_b\n",
    " )"
   ]
  },
  {
   "cell_type": "code",
   "execution_count": 11,
   "metadata": {},
   "outputs": [
    {
     "data": {
      "text/plain": [
       "([array([ 0.02321566, -0.01050921,  0.21952044]),\n",
       "  array([ 0.01563993, -0.01153512,  0.159142  ]),\n",
       "  array([0.02119855, 0.05747961, 0.03828643]),\n",
       "  array([0.0740268 , 0.40404407, 0.20917308]),\n",
       "  array([0.09666573, 0.80309773, 0.30051669]),\n",
       "  array([0., 0., 0.])],\n",
       " [array([ 0.00652976, -0.02040147, -0.01068351,  0.99971346]),\n",
       "  array([ 0.00652976, -0.02040147, -0.01068351,  0.99971346]),\n",
       "  array([ 0.07547421, -0.02394533,  0.00391293,  0.99685252]),\n",
       "  array([ 0.22701368,  0.02261524, -0.0644312 ,  0.9714947 ]),\n",
       "  array([ 0.1130767 ,  0.03588904, -0.02372451,  0.99265441]),\n",
       "  array([ 0.017026  ,  0.06643844, -0.00578745,  0.99762847])])"
      ]
     },
     "execution_count": 11,
     "metadata": {},
     "output_type": "execute_result"
    }
   ],
   "source": [
    "primary_positions, primary_rotations"
   ]
  },
  {
   "cell_type": "code",
   "execution_count": 12,
   "metadata": {},
   "outputs": [],
   "source": [
    "primary_positions.reverse()"
   ]
  },
  {
   "cell_type": "code",
   "execution_count": 13,
   "metadata": {},
   "outputs": [
    {
     "name": "stdout",
     "output_type": "stream",
     "text": [
      "[array([0., 0., 0.]), array([0.09666573, 0.80309773, 0.30051669]), array([0.0740268 , 0.40404407, 0.20917308]), array([0.02119855, 0.05747961, 0.03828643]), array([ 0.01563993, -0.01153512,  0.159142  ]), array([ 0.02321566, -0.01050921,  0.21952044])]\n"
     ]
    }
   ],
   "source": [
    "print(primary_positions)"
   ]
  },
  {
   "cell_type": "code",
   "execution_count": 14,
   "metadata": {},
   "outputs": [],
   "source": [
    "import torch as torch\n",
    "import numpy as np"
   ]
  },
  {
   "cell_type": "code",
   "execution_count": 15,
   "metadata": {},
   "outputs": [],
   "source": [
    "aa = np.array([x.tolist() for x in primary_rotations])"
   ]
  },
  {
   "cell_type": "code",
   "execution_count": 16,
   "metadata": {},
   "outputs": [
    {
     "data": {
      "text/plain": [
       "array([[ 0.00652976, -0.02040147, -0.01068351,  0.99971346],\n",
       "       [ 0.00652976, -0.02040147, -0.01068351,  0.99971346],\n",
       "       [ 0.07547421, -0.02394533,  0.00391293,  0.99685252],\n",
       "       [ 0.22701368,  0.02261524, -0.0644312 ,  0.9714947 ],\n",
       "       [ 0.1130767 ,  0.03588904, -0.02372451,  0.99265441],\n",
       "       [ 0.017026  ,  0.06643844, -0.00578745,  0.99762847]])"
      ]
     },
     "execution_count": 16,
     "metadata": {},
     "output_type": "execute_result"
    }
   ],
   "source": [
    "aa"
   ]
  },
  {
   "cell_type": "code",
   "execution_count": 17,
   "metadata": {},
   "outputs": [],
   "source": [
    "a = torch.from_numpy(aa)\n"
   ]
  },
  {
   "cell_type": "code",
   "execution_count": 18,
   "metadata": {},
   "outputs": [
    {
     "data": {
      "text/plain": [
       "tensor([[ 0.0065, -0.0204, -0.0107,  0.9997],\n",
       "        [ 0.0065, -0.0204, -0.0107,  0.9997],\n",
       "        [ 0.0755, -0.0239,  0.0039,  0.9969],\n",
       "        [ 0.2270,  0.0226, -0.0644,  0.9715],\n",
       "        [ 0.1131,  0.0359, -0.0237,  0.9927],\n",
       "        [ 0.0170,  0.0664, -0.0058,  0.9976]], dtype=torch.float64,\n",
       "       requires_grad=True)"
      ]
     },
     "execution_count": 18,
     "metadata": {},
     "output_type": "execute_result"
    }
   ],
   "source": [
    "a.requires_grad_(True)"
   ]
  },
  {
   "cell_type": "code",
   "execution_count": 20,
   "metadata": {},
   "outputs": [
    {
     "name": "stdout",
     "output_type": "stream",
     "text": [
      "None\n"
     ]
    }
   ],
   "source": [
    "print(a.grad)"
   ]
  },
  {
   "cell_type": "code",
   "execution_count": 22,
   "metadata": {},
   "outputs": [
    {
     "data": {
      "text/plain": [
       "6"
      ]
     },
     "execution_count": 22,
     "metadata": {},
     "output_type": "execute_result"
    }
   ],
   "source": [
    "len(a)"
   ]
  },
  {
   "cell_type": "code",
   "execution_count": 37,
   "metadata": {},
   "outputs": [
    {
     "data": {
      "text/plain": [
       "[0.006529755862589982,\n",
       " -0.020401466056178146,\n",
       " -0.010683507664969403,\n",
       " 0.9997134615154015]"
      ]
     },
     "execution_count": 37,
     "metadata": {},
     "output_type": "execute_result"
    }
   ],
   "source": [
    "a[0].tolist()"
   ]
  },
  {
   "cell_type": "code",
   "execution_count": 50,
   "metadata": {},
   "outputs": [
    {
     "data": {
      "text/plain": [
       "[array([[ 0.99893929,  0.02109446, -0.04093076],\n",
       "        [-0.02162733,  0.99968645, -0.01261985],\n",
       "        [ 0.04065172,  0.01349169,  0.99908228]]),\n",
       " array([[ 0.99575957,  0.0416077 , -0.08204675],\n",
       "        [-0.04373795,  0.99874652, -0.02433894],\n",
       "        [ 0.08093122,  0.02782429,  0.99633124]]),\n",
       " array([[ 0.99127064,  0.02884539, -0.1286486 ],\n",
       "        [-0.05126251,  0.98331967, -0.17451238],\n",
       "        [ 0.12146882,  0.17958385,  0.97621461]]),\n",
       " array([[ 0.97686661,  0.16441166, -0.1367495 ],\n",
       "        [-0.21340333,  0.79075416, -0.57373066],\n",
       "        [ 0.01380723,  0.58964113,  0.80754734]]),\n",
       " array([[ 0.96237672,  0.24631481, -0.11471731],\n",
       "        [-0.24891114,  0.62985895, -0.73574516],\n",
       "        [-0.10896921,  0.73661844,  0.66747209]]),\n",
       " array([[ 0.93595517,  0.35032432, -0.03550765],\n",
       "        [-0.2539003 ,  0.60157421, -0.75739231],\n",
       "        [-0.24397245,  0.71790065,  0.65199394]])]"
      ]
     },
     "execution_count": 50,
     "metadata": {},
     "output_type": "execute_result"
    }
   ],
   "source": [
    "from scipy.spatial.transform import Rotation as R\n",
    "Q = []\n",
    "Q.append(R.from_euler('xyz', [0, 0, 0], degrees=True).as_matrix())\n",
    "for i in range(len(aa)):\n",
    "     #Q.append(R.from_euler(\"XYZ\", degrees = True, seq = a[i].tolist()))\n",
    "     # print(a[i].tolist())\n",
    "     # print(R.from_quat(a[i].tolist()).as_matrix())\n",
    "     # print(Q[-1])\n",
    "     Q.append(\n",
    "        R.from_quat(a[i].tolist()).as_matrix() @ Q[-1]\n",
    "    )\n",
    "Q[1:]"
   ]
  },
  {
   "cell_type": "code",
   "execution_count": 51,
   "metadata": {},
   "outputs": [],
   "source": [
    "def forward_kinematics(root_joint_pos : list, all_joint_offset : list, rotation_param_matrix : torch.Tensor)-> list:\n",
    "    # do forward kinematics from a root joint to a end joint\n",
    "    # return -> end joint position \n",
    "    \n",
    "    # first calculate all needed rotations\n",
    "    Q = []\n",
    "    Q.append(\n",
    "        R.from_euler(\"XYZ\",[0,0,0], degrees = True).as_matrix()\n",
    "    )\n",
    "    for i in range(len(rotation_param_matrix)):\n",
    "        Q.append(\n",
    "            R.from_quat(rotation_param_matrix[i].tolist()).as_matrix() @ Q[-1]\n",
    "        )\n",
    "    # exclude the identity matrix\n",
    "    Q = Q[1:]\n",
    "    \n",
    "    # second calculate the end joint position\n",
    "    '''\n",
    "    if the joint nums is 5, the final position is calculated by :\n",
    "    X = p0 + R0l0 + R0R1l1 + R0R1R2l2 + R0R1R2R3l3 + R0R1R2R3R4l4\n",
    "    Here p0 is root_joint_pos\n",
    "         R0 - R0R1R2R3R4 is calculated in Q\n",
    "         l0 - l4 - x is all offset from root joint to end joint\n",
    "    '''\n",
    "    final_position = np.array(root_joint_pos)\n",
    "    for i in range(len(Q)):\n",
    "        final_position += np.array(\n",
    "            Q[i] @ all_joint_offset[i]\n",
    "        )\n",
    "    return final_position.tolist()"
   ]
  },
  {
   "cell_type": "code",
   "execution_count": 24,
   "metadata": {},
   "outputs": [],
   "source": [
    "from read_bvh import Bone_Tree\n",
    "from torch import torch\n",
    "import numpy as np\n",
    "from scipy.spatial.transform import Rotation as R\n",
    "\n",
    "def get_joint_offset_along_path(bone_tree : Bone_Tree, path_name : list):\n",
    "    path_offset_along_path = []\n",
    "    \n",
    "    '''\n",
    "    path_name is like : ['lToeJoint_end', 'lToeJoint', 'lAnkle', 'lKnee', 'lHip', 'RootJoint']\n",
    "              is from end to root joint\n",
    "    '''\n",
    "    all_joint_name_index = [\n",
    "        bone_tree.joint_name.index(joint_name)\n",
    "        for joint_name in path_name\n",
    "    ]\n",
    "    \n",
    "    path_offset_along_path = [\n",
    "        bone_tree.joint_offset[joint_name_index]\n",
    "        for joint_name_index in all_joint_name_index\n",
    "    ]\n",
    "    # so the offset is from end to root joint\n",
    "    path_offset_along_path.reverse()\n",
    "    return path_offset_along_path\n",
    "    \n",
    "def forward_kinematics(root_joint_pos : list, all_joint_offset : list, rotation_param_matrix : torch.Tensor)-> list:\n",
    "    # do forward kinematics from a root joint to a end joint\n",
    "    # return -> end joint position \n",
    "    \n",
    "    # first calculate all needed rotations\n",
    "    Q = []\n",
    "    Q.append(\n",
    "        R.from_euler(\"XYZ\",[0,0,0], degrees = True).as_matrix()\n",
    "    )\n",
    "    for i in range(len(rotation_param_matrix)):\n",
    "        Q.append(\n",
    "            R.from_quat(rotation_param_matrix[i].tolist()).as_matrix() @ Q[-1]\n",
    "        )\n",
    "    # exclude the identity matrix\n",
    "    Q = Q[1:]\n",
    "    \n",
    "    # second calculate the end joint position\n",
    "    '''\n",
    "    if the joint nums is 5, the final position is calculated by :\n",
    "    X = p0 + R0l0 + R0R1l1 + R0R1R2l2 + R0R1R2R3l3 + R0R1R2R3R4l4\n",
    "    Here p0 is root_joint_pos\n",
    "         R0 - R0R1R2R3R4 is calculated in Q\n",
    "         l0 - l4 - x is all offset from root joint to end joint\n",
    "    '''\n",
    "    final_position = np.array(root_joint_pos)\n",
    "    for i in range(len(Q)):\n",
    "        final_position += np.array(\n",
    "            Q[i] @ all_joint_offset[i]\n",
    "        )\n",
    "    return final_position.tolist()\n",
    "\n",
    "def inverse_kinematics(\n",
    "    bone_tree: Bone_Tree,\n",
    "    path_info: list,\n",
    "    # joint_positions: list,\n",
    "    # joint_orientations: list,\n",
    "    target_pos: list,\n",
    ") -> list:\n",
    "    \"\"\"\n",
    "    input : path_info : list -> from AJoint To BJoint path info\n",
    "            joint_positions : list -> no IK joint positions\n",
    "            joint_orientations : list -> no IK joint orientations\n",
    "            target_pos : list -> target position\n",
    "    output :\n",
    "            joint_positions : list -> IK joint positions\n",
    "            joint_orientations : list -> IK joint orientations\n",
    "    \"\"\"\n",
    "    # in gradient descent -> update the rotate parameter of each joint\n",
    "    # then calculate the new joint position\n",
    "    # the primart position for root joint is all the same -> not change\n",
    "    # every iterate -> do forward kinamatics to calculate the end joint position\n",
    "\n",
    "    '''\n",
    "    all needed info :\n",
    "    thresold : 0.001\n",
    "    learning_rate : 0.01\n",
    "    '''\n",
    "    thresold = 0.001\n",
    "    learning_rate = 0.01\n",
    "    epochs = 1000\n",
    "\n",
    "    try:\n",
    "        path_index = path_info[0]\n",
    "        path_name = path_info[1]\n",
    "    except:\n",
    "        if len(path_index) == 2:\n",
    "            raise ValueError(\"more path here not supported\")\n",
    "    # this only process one path case\n",
    "\n",
    "    primary_positions, primary_rotations = (\n",
    "        bone_tree.get_bone_tree_primary_positions_rotations_from_AJoint_To_BJoint(\n",
    "            path_info = path_info\n",
    "        )\n",
    "    )\n",
    "    \n",
    "    # offset from root joint to end joint\n",
    "    root_to_end_offset = get_joint_offset_along_path(bone_tree, path_name)\n",
    "\n",
    "    # reverse -> from RootJoint to end joint\n",
    "    primary_positions.reverse()\n",
    "    primary_rotations.reverse()\n",
    "\n",
    "    # type : np.ndarray\n",
    "    primary_positions_root = primary_positions[0]\n",
    "\n",
    "    # create a rotation parameter matrix\n",
    "    rotation_matrix = torch.from_numpy(\n",
    "        np.array([x.tolist() for x in primary_rotations])\n",
    "    ).requires_grad_(True)\n",
    "    \"\"\"\n",
    "    torch array like :\n",
    "    tensor([[ 0.0065, -0.0204, -0.0107,  0.9997],\n",
    "        [ 0.0065, -0.0204, -0.0107,  0.9997],\n",
    "        [ 0.0755, -0.0239,  0.0039,  0.9969],\n",
    "        [ 0.2270,  0.0226, -0.0644,  0.9715],\n",
    "        [ 0.1131,  0.0359, -0.0237,  0.9927],\n",
    "        [ 0.0170,  0.0664, -0.0058,  0.9976]], dtype=torch.float64)\n",
    "    \"\"\"\n",
    "    final_position = forward_kinematics(\n",
    "        root_joint_pos = primary_positions_root,\n",
    "        all_joint_offset = root_to_end_offset,\n",
    "        rotation_param_matrix = rotation_matrix\n",
    "    )\n",
    "    x = torch.from_numpy(np.array(final_position) \n",
    "                         - np.array(target_pos)).requires_grad_(True)\n",
    "    y = 0.5 * torch.dot(x, x)\n",
    "    \n",
    "    optimizer = torch.optim.SGD([rotation_matrix], lr = learning_rate)\n",
    "    for epoch in range(epochs):\n",
    "        optimizer.zero_grad()\n",
    "        final_position = forward_kinematics(\n",
    "            root_joint_pos = primary_positions_root,\n",
    "            all_joint_offset = root_to_end_offset,\n",
    "            rotation_param_matrix = rotation_matrix\n",
    "        )\n",
    "        # x = torch.tensor(final_position, dtype=torch.float64) \\\n",
    "        #     - torch.tensor(target_pos, dtype=torch.float64)\n",
    "        # y = 0.5 * torch.dot(x, x)\n",
    "        final_position_tensor = torch.tensor(final_position, dtype=torch.float64, requires_grad=True)\n",
    "        target_pos_tensor = torch.tensor(target_pos, dtype=torch.float64)\n",
    "        x = final_position_tensor - target_pos_tensor\n",
    "        y = 0.5 * torch.dot(x, x)\n",
    "        y.backward()\n",
    "        optimizer.step()\n",
    "        if epoch % 10 == 0:\n",
    "            print(f\"epoch {epoch} loss {y.item()}\")\n",
    "        \n",
    "        if y.item() < thresold:\n",
    "            break\n",
    "        \n",
    "    final_joint_positions = forward_kinematics(\n",
    "        root_joint_pos = primary_positions_root,\n",
    "        all_joint_offset = root_to_end_offset,\n",
    "        rotation_param_matrix = rotation_matrix\n",
    "    )\n",
    "    final_orientation = rotation_matrix.detach().numpy()\n",
    "    \n",
    "    return final_joint_positions, final_orientation\n",
    "        \n"
   ]
  },
  {
   "cell_type": "code",
   "execution_count": 17,
   "metadata": {},
   "outputs": [],
   "source": [
    "bone_tree_T_pos = Bone_Tree(\"walk60.bvh\")\n",
    "path_info = bone_tree_T_pos.get_path_from_Ajoint_To_Bjoint(\"lToeJoint_end\", \"RootJoint\")\n",
    "target_pos = [0.35, 0.45, 0.13]\n"
   ]
  },
  {
   "cell_type": "code",
   "execution_count": 25,
   "metadata": {},
   "outputs": [
    {
     "name": "stdout",
     "output_type": "stream",
     "text": [
      "epoch 0 loss 1.0387181264466132\n",
      "epoch 10 loss 1.0387181264466132\n",
      "epoch 20 loss 1.0387181264466132\n",
      "epoch 30 loss 1.0387181264466132\n",
      "epoch 40 loss 1.0387181264466132\n",
      "epoch 50 loss 1.0387181264466132\n",
      "epoch 60 loss 1.0387181264466132\n",
      "epoch 70 loss 1.0387181264466132\n",
      "epoch 80 loss 1.0387181264466132\n",
      "epoch 90 loss 1.0387181264466132\n",
      "epoch 100 loss 1.0387181264466132\n",
      "epoch 110 loss 1.0387181264466132\n",
      "epoch 120 loss 1.0387181264466132\n",
      "epoch 130 loss 1.0387181264466132\n",
      "epoch 140 loss 1.0387181264466132\n",
      "epoch 150 loss 1.0387181264466132\n",
      "epoch 160 loss 1.0387181264466132\n",
      "epoch 170 loss 1.0387181264466132\n",
      "epoch 180 loss 1.0387181264466132\n",
      "epoch 190 loss 1.0387181264466132\n",
      "epoch 200 loss 1.0387181264466132\n",
      "epoch 210 loss 1.0387181264466132\n",
      "epoch 220 loss 1.0387181264466132\n",
      "epoch 230 loss 1.0387181264466132\n",
      "epoch 240 loss 1.0387181264466132\n",
      "epoch 250 loss 1.0387181264466132\n",
      "epoch 260 loss 1.0387181264466132\n",
      "epoch 270 loss 1.0387181264466132\n",
      "epoch 280 loss 1.0387181264466132\n",
      "epoch 290 loss 1.0387181264466132\n",
      "epoch 300 loss 1.0387181264466132\n",
      "epoch 310 loss 1.0387181264466132\n",
      "epoch 320 loss 1.0387181264466132\n",
      "epoch 330 loss 1.0387181264466132\n",
      "epoch 340 loss 1.0387181264466132\n",
      "epoch 350 loss 1.0387181264466132\n",
      "epoch 360 loss 1.0387181264466132\n",
      "epoch 370 loss 1.0387181264466132\n",
      "epoch 380 loss 1.0387181264466132\n",
      "epoch 390 loss 1.0387181264466132\n",
      "epoch 400 loss 1.0387181264466132\n",
      "epoch 410 loss 1.0387181264466132\n",
      "epoch 420 loss 1.0387181264466132\n",
      "epoch 430 loss 1.0387181264466132\n",
      "epoch 440 loss 1.0387181264466132\n",
      "epoch 450 loss 1.0387181264466132\n",
      "epoch 460 loss 1.0387181264466132\n",
      "epoch 470 loss 1.0387181264466132\n",
      "epoch 480 loss 1.0387181264466132\n",
      "epoch 490 loss 1.0387181264466132\n",
      "epoch 500 loss 1.0387181264466132\n",
      "epoch 510 loss 1.0387181264466132\n",
      "epoch 520 loss 1.0387181264466132\n",
      "epoch 530 loss 1.0387181264466132\n",
      "epoch 540 loss 1.0387181264466132\n",
      "epoch 550 loss 1.0387181264466132\n",
      "epoch 560 loss 1.0387181264466132\n",
      "epoch 570 loss 1.0387181264466132\n",
      "epoch 580 loss 1.0387181264466132\n",
      "epoch 590 loss 1.0387181264466132\n",
      "epoch 600 loss 1.0387181264466132\n",
      "epoch 610 loss 1.0387181264466132\n",
      "epoch 620 loss 1.0387181264466132\n",
      "epoch 630 loss 1.0387181264466132\n",
      "epoch 640 loss 1.0387181264466132\n",
      "epoch 650 loss 1.0387181264466132\n",
      "epoch 660 loss 1.0387181264466132\n",
      "epoch 670 loss 1.0387181264466132\n",
      "epoch 680 loss 1.0387181264466132\n",
      "epoch 690 loss 1.0387181264466132\n",
      "epoch 700 loss 1.0387181264466132\n",
      "epoch 710 loss 1.0387181264466132\n",
      "epoch 720 loss 1.0387181264466132\n",
      "epoch 730 loss 1.0387181264466132\n",
      "epoch 740 loss 1.0387181264466132\n",
      "epoch 750 loss 1.0387181264466132\n",
      "epoch 760 loss 1.0387181264466132\n",
      "epoch 770 loss 1.0387181264466132\n",
      "epoch 780 loss 1.0387181264466132\n",
      "epoch 790 loss 1.0387181264466132\n",
      "epoch 800 loss 1.0387181264466132\n",
      "epoch 810 loss 1.0387181264466132\n",
      "epoch 820 loss 1.0387181264466132\n",
      "epoch 830 loss 1.0387181264466132\n",
      "epoch 840 loss 1.0387181264466132\n",
      "epoch 850 loss 1.0387181264466132\n",
      "epoch 860 loss 1.0387181264466132\n",
      "epoch 870 loss 1.0387181264466132\n",
      "epoch 880 loss 1.0387181264466132\n",
      "epoch 890 loss 1.0387181264466132\n",
      "epoch 900 loss 1.0387181264466132\n",
      "epoch 910 loss 1.0387181264466132\n",
      "epoch 920 loss 1.0387181264466132\n",
      "epoch 930 loss 1.0387181264466132\n",
      "epoch 940 loss 1.0387181264466132\n",
      "epoch 950 loss 1.0387181264466132\n",
      "epoch 960 loss 1.0387181264466132\n",
      "epoch 970 loss 1.0387181264466132\n",
      "epoch 980 loss 1.0387181264466132\n",
      "epoch 990 loss 1.0387181264466132\n"
     ]
    }
   ],
   "source": [
    "final_joint_positions, final_orientation = inverse_kinematics(\n",
    "    bone_tree = bone_tree_T_pos,\n",
    "    path_info = path_info,\n",
    "    target_pos = target_pos\n",
    ")"
   ]
  },
  {
   "cell_type": "code",
   "execution_count": 19,
   "metadata": {},
   "outputs": [
    {
     "name": "stdout",
     "output_type": "stream",
     "text": [
      "[-0.03453334526386108, -0.7794460994715716, -0.5165544430034866]\n",
      "[[ 0.017026    0.06643844 -0.00578745  0.99762847]\n",
      " [ 0.1130767   0.03588904 -0.02372451  0.99265441]\n",
      " [ 0.22701368  0.02261524 -0.0644312   0.9714947 ]\n",
      " [ 0.07547421 -0.02394533  0.00391293  0.99685252]\n",
      " [ 0.00652976 -0.02040147 -0.01068351  0.99971346]\n",
      " [ 0.00652976 -0.02040147 -0.01068351  0.99971346]]\n"
     ]
    }
   ],
   "source": [
    "print(final_joint_positions)\n",
    "print(final_orientation)"
   ]
  }
 ],
 "metadata": {
  "kernelspec": {
   "display_name": "pytorch",
   "language": "python",
   "name": "python3"
  },
  "language_info": {
   "codemirror_mode": {
    "name": "ipython",
    "version": 3
   },
   "file_extension": ".py",
   "mimetype": "text/x-python",
   "name": "python",
   "nbconvert_exporter": "python",
   "pygments_lexer": "ipython3",
   "version": "3.8.17"
  }
 },
 "nbformat": 4,
 "nbformat_minor": 2
}
