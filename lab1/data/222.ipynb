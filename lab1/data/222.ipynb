{
 "cells": [
  {
   "cell_type": "code",
   "execution_count": 3,
   "metadata": {},
   "outputs": [],
   "source": [
    "import numpy as np\n",
    "from scipy.spatial.transform import Rotation as R\n",
    "from read_bvh import Bone_Tree\n",
    "def part1_calculate_T_pose(bvh_file_path):\n",
    "    \"\"\"请填写以下内容\n",
    "    输入： bvh 文件路径\n",
    "    输出:\n",
    "        joint_name: List[str]，字符串列表，包含着所有关节的名字\n",
    "        joint_parent: List[int]，整数列表，包含着所有关节的父关节的索引,根节点的父关节索引为-1\n",
    "        joint_offset: np.ndarray，形状为(M, 3)的numpy数组，包含着所有关节的偏移量\n",
    "\n",
    "    Tips:\n",
    "        joint_name顺序应该和bvh一致\n",
    "    \"\"\"\n",
    "    Tree = Bone_Tree(bvh_file_path)\n",
    "    joint_name = Tree.joint_name\n",
    "    joint_parent = Tree.joint_parent\n",
    "    joint_offset = Tree.joint_offset\n",
    "    return joint_name, joint_parent, joint_offset"
   ]
  },
  {
   "cell_type": "code",
   "execution_count": null,
   "metadata": {},
   "outputs": [],
   "source": [
    "import os\n",
    "\n",
    "current_directory = os.getcwd()\n",
    "print(current_directory)\n",
    "T_pos_bvh_file = os.path.join(current_directory, 'data', 'walk60.bvh')\n",
    "A_pos_bvh_file = os.path.join(current_directory, 'data', 'A_pos_run.bvh')\n",
    "\n",
    "T_joint_name, _, _, = part1_calculate_T_pose(T_pos_bvh_file)\n",
    "A_joint_name, _, _, = part1_calculate_T_pose(A_pos_bvh_file)\n"
   ]
  },
  {
   "cell_type": "code",
   "execution_count": 10,
   "metadata": {},
   "outputs": [],
   "source": [
    "T_pos_bvh_file ='walk60.bvh'\n",
    "A_pos_bvh_file ='A_pos_run.bvh'\n",
    "T_tree = Bone_Tree('walk60.bvh')\n",
    "A_tree = Bone_Tree(bvh_file_path= 'A_pose_run.bvh')"
   ]
  },
  {
   "cell_type": "code",
   "execution_count": 12,
   "metadata": {},
   "outputs": [],
   "source": [
    "T_joint_name = T_tree.joint_name\n",
    "A_joint_name = A_tree.joint_name\n"
   ]
  },
  {
   "cell_type": "code",
   "execution_count": 13,
   "metadata": {},
   "outputs": [],
   "source": [
    "A_motion_data = A_tree.frames"
   ]
  },
  {
   "cell_type": "code",
   "execution_count": 14,
   "metadata": {},
   "outputs": [],
   "source": [
    "A_joint_map = {}\n",
    "count = 0\n",
    "for i in range(len(A_joint_name)):\n",
    "    if '_end' in A_joint_name[i]:\n",
    "        count += 1\n",
    "    A_joint_map[A_joint_name[i]] = i - count"
   ]
  },
  {
   "cell_type": "code",
   "execution_count": 15,
   "metadata": {},
   "outputs": [
    {
     "data": {
      "text/plain": [
       "{'RootJoint': 0,\n",
       " 'lHip': 1,\n",
       " 'lKnee': 2,\n",
       " 'lAnkle': 3,\n",
       " 'lToeJoint': 4,\n",
       " 'lToeJoint_end': 4,\n",
       " 'rHip': 5,\n",
       " 'rKnee': 6,\n",
       " 'rAnkle': 7,\n",
       " 'rToeJoint': 8,\n",
       " 'rToeJoint_end': 8,\n",
       " 'pelvis_lowerback': 9,\n",
       " 'lowerback_torso': 10,\n",
       " 'torso_head': 11,\n",
       " 'torso_head_end': 11,\n",
       " 'lTorso_Clavicle': 12,\n",
       " 'lShoulder': 13,\n",
       " 'lElbow': 14,\n",
       " 'lWrist': 15,\n",
       " 'lWrist_end': 15,\n",
       " 'rTorso_Clavicle': 16,\n",
       " 'rShoulder': 17,\n",
       " 'rElbow': 18,\n",
       " 'rWrist': 19,\n",
       " 'rWrist_end': 19}"
      ]
     },
     "execution_count": 15,
     "metadata": {},
     "output_type": "execute_result"
    }
   ],
   "source": [
    "A_joint_map"
   ]
  },
  {
   "cell_type": "code",
   "execution_count": 16,
   "metadata": {},
   "outputs": [],
   "source": [
    "motion_data = []"
   ]
  },
  {
   "cell_type": "code",
   "execution_count": 19,
   "metadata": {},
   "outputs": [
    {
     "data": {
      "text/plain": [
       "14269"
      ]
     },
     "execution_count": 19,
     "metadata": {},
     "output_type": "execute_result"
    }
   ],
   "source": [
    "np.array(A_motion_data).shape[0]"
   ]
  },
  {
   "cell_type": "code",
   "execution_count": 20,
   "metadata": {},
   "outputs": [],
   "source": [
    "A_motion_data = np.array(A_motion_data)"
   ]
  },
  {
   "cell_type": "code",
   "execution_count": 21,
   "metadata": {},
   "outputs": [],
   "source": [
    "for i in range(A_motion_data.shape[0]):\n",
    "    data = []\n",
    "    for joint in T_joint_name:\n",
    "        index = A_joint_map[joint]\n",
    "        if joint == 'RootJoint':\n",
    "            data += list(A_motion_data[i][0:6])\n",
    "        elif joint == 'lShoulder':\n",
    "            Rot = (R.from_euler('XYZ', list(A_motion_data[i][index * 3 + 3: index*3 + 6]), degrees=True) * R.from_euler('XYZ', [0., 0., -45.], degrees=True)).as_euler('XYZ',True)\n",
    "            data += list(Rot)\n",
    "        elif joint == 'rShoulder':\n",
    "            Rot = (R.from_euler('XYZ', list(A_motion_data[i][index * 3 + 3: index*3 + 6]), degrees=True) * R.from_euler('XYZ', [0., 0., 45.], degrees=True)).as_euler('XYZ',True)\n",
    "            data += list(Rot)\n",
    "        elif '_end' in joint:\n",
    "            continue\n",
    "        else:\n",
    "            data += list(A_motion_data[i][index * 3 + 3: index * 3 + 6])\n",
    "    motion_data.append(np.array(data).reshape(1, -1))\n"
   ]
  },
  {
   "cell_type": "code",
   "execution_count": 26,
   "metadata": {},
   "outputs": [
    {
     "data": {
      "text/plain": [
       "(14269, 63)"
      ]
     },
     "execution_count": 26,
     "metadata": {},
     "output_type": "execute_result"
    }
   ],
   "source": [
    "np.array(motion_data).squeeze().shape"
   ]
  },
  {
   "cell_type": "code",
   "execution_count": null,
   "metadata": {},
   "outputs": [],
   "source": []
  }
 ],
 "metadata": {
  "kernelspec": {
   "display_name": "Python 3",
   "language": "python",
   "name": "python3"
  },
  "language_info": {
   "codemirror_mode": {
    "name": "ipython",
    "version": 3
   },
   "file_extension": ".py",
   "mimetype": "text/x-python",
   "name": "python",
   "nbconvert_exporter": "python",
   "pygments_lexer": "ipython3",
   "version": "3.11.9"
  }
 },
 "nbformat": 4,
 "nbformat_minor": 2
}
